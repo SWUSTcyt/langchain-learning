{
 "cells": [
  {
   "cell_type": "markdown",
   "metadata": {},
   "source": [
    "# LangGraph：大模型时代的工作流编排框架\n",
    "\n",
    "在大模型应用开发中，我们经常需要将多个任务连接起来，组成一个完整的工作流。例如，将检索与大模型生成结合的RAG系统，或者将多个大模型与各种工具组合的智能体系统。LangGraph就是一个为智能体和工作流设计的底层编排框架，它是LangChain生态的一部分。\n",
    "今天，我们将一起探索LangGraph的核心概念和使用方法，带你快速上手这个强大的工作流框架。"
   ]
  },
  {
   "cell_type": "markdown",
   "metadata": {},
   "source": [
    "## 1. 安装LangGraph\n",
    "\n",
    "首先需要安装langgraph："
   ]
  },
  {
   "cell_type": "code",
   "execution_count": 20,
   "metadata": {},
   "outputs": [],
   "source": [
    "# %pip install langgraph"
   ]
  },
  {
   "cell_type": "markdown",
   "metadata": {},
   "source": [
    "## 2. LangGraph的关键概念\n",
    "\n",
    "LangGraph基于状态机的思想来设计工作流，主要有以下几个核心概念：\n",
    "\n",
    "StateGraph：将工作流定义成一个状态机\n",
    "\n",
    "Node：工作流中的节点，代表一个具体的处理步骤\n",
    "\n",
    "Edge：边，定义节点之间的跳转关系\n",
    "\n",
    "State：状态，随着工作流的进行可以被更新\n",
    "\n",
    "接下来我们通过实例来理解这些概念。"
   ]
  },
  {
   "cell_type": "markdown",
   "metadata": {},
   "source": [
    "## 3. 一个最基础的聊天机器人"
   ]
  },
  {
   "cell_type": "code",
   "execution_count": 21,
   "metadata": {},
   "outputs": [],
   "source": [
    "from typing import Annotated\n",
    "from typing_extensions import TypedDict\n",
    "from langgraph.graph import StateGraph, START, END\n",
    "from langgraph.graph.message import add_messages\n",
    "\n",
    "# 定义状态类，描述工作流中状态的结构\n",
    "class State(TypedDict):\n",
    "    # messages字段是一个列表，更新方式是add_messages\n",
    "    messages: Annotated[list, add_messages]\n",
    "\n",
    "# 创建状态图\n",
    "graph_builder = StateGraph(State)"
   ]
  },
  {
   "cell_type": "markdown",
   "metadata": {},
   "source": [
    "上面的代码中，我们定义了一个简单的State类，它包含一个messages字段，这个字段会随着聊天的进行不断更新。add_messages是一个特殊的更新方法，它会将新的消息列表追加到原来的列表后面。\n",
    "\n",
    "接下来，我们定义聊天机器人的处理逻辑："
   ]
  },
  {
   "cell_type": "code",
   "execution_count": 22,
   "metadata": {},
   "outputs": [],
   "source": [
    "from langchain.chat_models import init_chat_model\n",
    "from langchain.schema import AIMessage, HumanMessage\n",
    "\n",
    "# 初始化语言模型\n",
    "llm = init_chat_model(\"gpt-4o\", model_provider=\"openai\")\n",
    "\n",
    "# 定义聊天机器人节点的处理函数\n",
    "def chatbot(state: State):\n",
    "    # 调用大模型，并返回响应消息\n",
    "    return {\"messages\": [llm.invoke(state[\"messages\"])]}\n",
    "\n",
    "# 添加节点和边\n",
    "graph_builder.add_node(\"chatbot\", chatbot)\n",
    "graph_builder.add_edge(START, \"chatbot\")\n",
    "graph_builder.add_edge(\"chatbot\", END)\n",
    "\n",
    "# 编译图\n",
    "graph = graph_builder.compile()"
   ]
  },
  {
   "cell_type": "markdown",
   "metadata": {},
   "source": [
    "在这个例子中，我们创建了一个名为\"chatbot\"的节点，它的处理逻辑是调用大模型回答用户问题。\n",
    "\n",
    "然后我们添加了两条边：一条从START到chatbot，一条从chatbot到END。这就定义了一个简单的工作流：用户输入 -> 大模型回答 -> 结束。\n",
    "\n",
    "我们可以可视化这个工作流："
   ]
  },
  {
   "cell_type": "code",
   "execution_count": 23,
   "metadata": {},
   "outputs": [
    {
     "data": {
      "image/png": "[encoded data removed]",
      "text/plain": [
       "<IPython.core.display.Image object>"
      ]
     },
     "metadata": {},
     "output_type": "display_data"
    }
   ],
   "source": [
    "from IPython.display import Image, display\n",
    "\n",
    "try:\n",
    "    display(Image(data=graph.get_graph().draw_mermaid_png()))\n",
    "except Exception as e:\n",
    "    print(e)"
   ]
  },
  {
   "cell_type": "markdown",
   "metadata": {},
   "source": [
    "接下来，我们创建一个函数来运行这个工作流："
   ]
  },
  {
   "cell_type": "code",
   "execution_count": 24,
   "metadata": {},
   "outputs": [],
   "source": [
    "def stream_graph_updates(user_input: str):\n",
    "    # 向graph传入用户消息，触发状态更新\n",
    "    for event in graph.stream({\"messages\": [{\"role\": \"user\", \"content\": user_input}]}):\n",
    "        for value in event.values():\n",
    "            # 检查返回值中是否包含AI消息\n",
    "            if \"messages\" in value and isinstance(value[\"messages\"][-1], AIMessage):\n",
    "                print(\"Assistant:\", value[\"messages\"][-1].content)\n",
    "\n",
    "def run():\n",
    "    # 执行工作流\n",
    "    while True:\n",
    "        user_input = input(\"User: \")\n",
    "        if user_input.strip() == \"\":\n",
    "            break\n",
    "        stream_graph_updates(user_input)"
   ]
  },
  {
   "cell_type": "markdown",
   "metadata": {},
   "source": [
    "现在可以测试这个简单的聊天机器人了："
   ]
  },
  {
   "cell_type": "code",
   "execution_count": 25,
   "metadata": {},
   "outputs": [
    {
     "name": "stdout",
     "output_type": "stream",
     "text": [
      "Assistant: 你好！有什么我可以帮助你的吗？\n"
     ]
    }
   ],
   "source": [
    "run()"
   ]
  },
  {
   "cell_type": "markdown",
   "metadata": {},
   "source": [
    "当我们输入\"你好\"时，大模型会回复一个问候语。这就是一个最简单的LangGraph工作流。"
   ]
  },
  {
   "cell_type": "markdown",
   "metadata": {},
   "source": [
    "## 4. 构建RAG系统\n",
    "\n",
    "接下来，让我们实现一个更复杂的例子：基于检索增强生成(RAG)的问答系统。\n",
    "\n",
    "首先，我们需要准备文档数据和向量检索组件："
   ]
  },
  {
   "cell_type": "code",
   "execution_count": 26,
   "metadata": {},
   "outputs": [],
   "source": [
    "from langchain_openai import OpenAIEmbeddings\n",
    "from langchain_text_splitters import RecursiveCharacterTextSplitter\n",
    "from langchain_community.vectorstores import FAISS\n",
    "from langchain_community.document_loaders import PyMuPDFLoader\n",
    "\n",
    "# 加载文档\n",
    "loader = PyMuPDFLoader(\"./data/rag_data/llama2.pdf\")\n",
    "pages = loader.load_and_split()\n",
    "\n",
    "# 文档切分\n",
    "text_splitter = RecursiveCharacterTextSplitter(\n",
    "    chunk_size=300,\n",
    "    chunk_overlap=100,\n",
    "    length_function=len,\n",
    "    add_start_index=True,\n",
    ")\n",
    "\n",
    "texts = text_splitter.create_documents(\n",
    "    [page.page_content for page in pages[:4]]\n",
    ")\n",
    "\n",
    "# 创建向量数据库\n",
    "embeddings = OpenAIEmbeddings(model=\"text-embedding-ada-002\")\n",
    "db = FAISS.from_documents(texts, embeddings)\n",
    "\n",
    "# 创建检索器\n",
    "retriever = db.as_retriever(search_kwargs={\"k\": 3})"
   ]
  },
  {
   "cell_type": "markdown",
   "metadata": {},
   "source": [
    "然后，我们定义检索节点和处理逻辑："
   ]
  },
  {
   "cell_type": "code",
   "execution_count": 27,
   "metadata": {},
   "outputs": [],
   "source": [
    "from langchain.prompts import ChatPromptTemplate, HumanMessagePromptTemplate\n",
    "\n",
    "# Prompt模板\n",
    "template = \"\"\"请根据对话历史和下面提供的信息回答上面用户提出的问题:\n",
    "{input}\n",
    "\"\"\"\n",
    "prompt = ChatPromptTemplate.from_messages(\n",
    "    [\n",
    "        HumanMessagePromptTemplate.from_template(template),\n",
    "    ]\n",
    ")\n",
    "\n",
    "# 检索节点的处理函数\n",
    "def retrieval(state: State):\n",
    "    user_query = \"\"\n",
    "    if len(state[\"messages\"]) >= 1:\n",
    "        # 获取最后一轮用户输入\n",
    "        user_query = state[\"messages\"][-1]\n",
    "    else:\n",
    "        return {\"messages\": []}\n",
    "    # 执行检索\n",
    "    docs = retriever.invoke(str(user_query))\n",
    "    # 填充prompt模板\n",
    "    messages = prompt.invoke({\"input\": \"\\n\".join([doc.page_content for doc in docs])}).messages\n",
    "    return {\"messages\": messages}"
   ]
  },
  {
   "cell_type": "markdown",
   "metadata": {},
   "source": [
    "现在，我们可以构建包含检索和生成两个节点的工作流："
   ]
  },
  {
   "cell_type": "code",
   "execution_count": 28,
   "metadata": {},
   "outputs": [],
   "source": [
    "# 创建新的工作流\n",
    "graph_builder = StateGraph(State)\n",
    "graph_builder.add_node(\"retrieval\", retrieval)\n",
    "graph_builder.add_node(\"chatbot\", chatbot)\n",
    "graph_builder.add_edge(START, \"retrieval\")\n",
    "graph_builder.add_edge(\"retrieval\", \"chatbot\")\n",
    "graph_builder.add_edge(\"chatbot\", END)\n",
    "\n",
    "# 编译图\n",
    "graph = graph_builder.compile()"
   ]
  },
  {
   "cell_type": "markdown",
   "metadata": {},
   "source": [
    "这个工作流的流程是：用户输入 -> 检索相关文档 -> 大模型回答 -> 结束。可以使用前面定义的run函数测试这个RAG系统。"
   ]
  },
  {
   "cell_type": "code",
   "execution_count": 31,
   "metadata": {},
   "outputs": [
    {
     "data": {
      "image/png": "[encoded data removed]",
      "text/plain": [
       "<IPython.core.display.Image object>"
      ]
     },
     "metadata": {},
     "output_type": "display_data"
    }
   ],
   "source": [
    "from IPython.display import Image, display\n",
    "\n",
    "try:\n",
    "    display(Image(data=graph.get_graph().draw_mermaid_png()))\n",
    "except Exception as e:\n",
    "    print(e)"
   ]
  },
  {
   "cell_type": "code",
   "execution_count": 12,
   "metadata": {},
   "outputs": [
    {
     "name": "stdout",
     "output_type": "stream",
     "text": [
      "Assistant: Llama 2有不同的变体模型，其中包括具有7B、13B和70B参数的版本。\n"
     ]
    }
   ],
   "source": [
    "run()"
   ]
  },
  {
   "cell_type": "markdown",
   "metadata": {},
   "source": [
    "## 5. 添加条件分支：未找到答案转人工"
   ]
  },
  {
   "cell_type": "markdown",
   "metadata": {},
   "source": [
    "接下来，我们进一步完善这个系统，添加一个判断逻辑：如果检索到的信息不足以回答用户问题，则将问题转给人工处理。"
   ]
  },
  {
   "cell_type": "code",
   "execution_count": 32,
   "metadata": {},
   "outputs": [],
   "source": [
    "from typing import Literal\n",
    "from langgraph.types import interrupt, Command\n",
    "\n",
    "# 添加判断节点\n",
    "def verify(state: State) -> Literal[\"chatbot\", \"ask_human\"]:\n",
    "    message = HumanMessage(\"请根据对话历史和上面提供的信息判断，已知的信息是否能够回答用户的问题。直接输出你的判断'Y'或'N'\")\n",
    "    ret = llm.invoke(state[\"messages\"] + [message])\n",
    "    if 'Y' in ret.content:\n",
    "        return \"chatbot\"\n",
    "    else:\n",
    "        return \"ask_human\"\n",
    "\n",
    "# 添加转人工节点\n",
    "def ask_human(state: State):\n",
    "    user_query = state[\"messages\"][-2].content if len(state[\"messages\"]) >= 2 else \"未找到问题\"\n",
    "    human_response = interrupt(\n",
    "       {\n",
    "          \"question\": user_query\n",
    "       }\n",
    "    )\n",
    "    # 返回人工回复\n",
    "    return {\n",
    "        \"messages\": [AIMessage(human_response)]\n",
    "    }"
   ]
  },
  {
   "cell_type": "markdown",
   "metadata": {},
   "source": [
    "上面的代码中，verify函数用于判断检索到的信息是否足够回答问题。ask_human函数则用于中断工作流，等待人工输入回复。\n",
    "\n",
    "接下来，我们需要创建一个内存存储器来保存工作流的状态："
   ]
  },
  {
   "cell_type": "code",
   "execution_count": 33,
   "metadata": {},
   "outputs": [],
   "source": [
    "from langgraph.checkpoint.memory import MemorySaver\n",
    "\n",
    "# 创建内存存储器\n",
    "memory = MemorySaver()\n",
    "\n",
    "# 创建新的工作流\n",
    "graph_builder = StateGraph(State)\n",
    "graph_builder.add_node(\"retrieval\", retrieval)\n",
    "graph_builder.add_node(\"chatbot\", chatbot)\n",
    "graph_builder.add_node(\"ask_human\", ask_human)\n",
    "\n",
    "# 添加边和条件边\n",
    "graph_builder.add_edge(START, \"retrieval\")\n",
    "graph_builder.add_conditional_edges(\"retrieval\", verify)  # 条件分支\n",
    "graph_builder.add_edge(\"ask_human\", END)\n",
    "graph_builder.add_edge(\"chatbot\", END)\n",
    "\n",
    "# 编译图，指定checkpointer\n",
    "graph = graph_builder.compile(checkpointer=memory)"
   ]
  },
  {
   "cell_type": "markdown",
   "metadata": {},
   "source": [
    "最后，我们需要修改运行函数以支持人工干预："
   ]
  },
  {
   "cell_type": "code",
   "execution_count": 34,
   "metadata": {},
   "outputs": [],
   "source": [
    "# 配置线程ID\n",
    "thread_config = {\"configurable\": {\"thread_id\": \"my_thread_id\"}}\n",
    "\n",
    "def stream_graph_updates(user_input: str):\n",
    "    # 向graph传入用户消息，触发状态更新\n",
    "    for event in graph.stream(\n",
    "        {\"messages\": [{\"role\": \"user\", \"content\": user_input}]},\n",
    "        thread_config\n",
    "    ):\n",
    "        for value in event.values():\n",
    "            if isinstance(value, tuple):\n",
    "                # 返回需要人工回答的问题\n",
    "                return value[0].value[\"question\"]\n",
    "            elif \"messages\" in value and isinstance(value[\"messages\"][-1], AIMessage):\n",
    "                # 打印AI回复\n",
    "                print(\"Assistant:\", value[\"messages\"][-1].content)\n",
    "                return None\n",
    "    return None\n",
    "\n",
    "def resume_graph_updates(human_input: str):\n",
    "    # 恢复工作流，提供人工回复\n",
    "    for event in graph.stream(\n",
    "        Command(resume=human_input), thread_config, stream_mode=\"updates\"\n",
    "    ):\n",
    "        for value in event.values():\n",
    "            if \"messages\" in value and isinstance(value[\"messages\"][-1], AIMessage):\n",
    "                print(\"Assistant:\", value[\"messages\"][-1].content)\n",
    "\n",
    "def run():\n",
    "    # 执行工作流\n",
    "    while True:\n",
    "        user_input = input(\"User: \")\n",
    "        if user_input.strip() == \"\":\n",
    "            break\n",
    "        question = stream_graph_updates(user_input)\n",
    "        if question:\n",
    "            # 需要人工干预\n",
    "            human_answer = input(f\"Ask Human: {question}\\nHuman: \")\n",
    "            resume_graph_updates(human_answer)"
   ]
  },
  {
   "cell_type": "markdown",
   "metadata": {},
   "source": [
    "现在，我们的系统可以智能地判断是自动回答还是转人工回答问题了。"
   ]
  },
  {
   "cell_type": "code",
   "execution_count": 35,
   "metadata": {},
   "outputs": [
    {
     "data": {
      "image/png": "[encoded data removed]",
      "text/plain": [
       "<IPython.core.display.Image object>"
      ]
     },
     "metadata": {},
     "output_type": "display_data"
    }
   ],
   "source": [
    "from IPython.display import Image, display\n",
    "\n",
    "try:\n",
    "    display(Image(data=graph.get_graph().draw_mermaid_png()))\n",
    "except Exception as e:\n",
    "    print(e)"
   ]
  },
  {
   "cell_type": "code",
   "execution_count": 18,
   "metadata": {},
   "outputs": [
    {
     "name": "stdout",
     "output_type": "stream",
     "text": [
      "Assistant: Llama 2 模型有不同的变体，包括 7B、13B 和 70B 参数。\n",
      "Assistant: 今天是2025年5月11号\n"
     ]
    }
   ],
   "source": [
    "run()"
   ]
  },
  {
   "cell_type": "markdown",
   "metadata": {},
   "source": [
    "LangGraph还支持许多高级功能：\n",
    "\n",
    "工具调用：允许节点调用外部工具或API来执行特定任务\n",
    "并行处理：支持多个节点并行执行，提高效率\n",
    "状态持久化：可以将工作流状态持久化存储，支持长时间运行的任务\n",
    "对话历史管理：提供对话历史的管理功能，方便上下文理解\n",
    "历史动作回放：支持回放历史动作，方便调试与测试\n",
    "子图管理：支持将复杂工作流拆分为多个子图\n",
    "多智能体协作：支持多个智能体之间的协作"
   ]
  },
  {
   "cell_type": "markdown",
   "metadata": {},
   "source": [
    "总结\n",
    "\n",
    "LangGraph是一个功能强大的工作流编排框架，它为大模型应用开发提供了灵活的工作流管理能力。通过本文的介绍，我们学习了LangGraph的基本概念和使用方法，并实现了从简单聊天机器人到带有条件分支的RAG系统的进阶示例。\n",
    "\n",
    "LangGraph的优势在于它的灵活性和可扩展性，可以轻松地构建复杂的智能应用工作流。如果你正在开发基于大模型的应用，LangGraph绝对是一个值得学习和使用的工具。\n",
    "\n",
    "更多关于LangGraph的内容，可以参考官方文档：https://langchain-ai.github.io/langgraph/how-tos"
   ]
  }
 ],
 "metadata": {
  "kernelspec": {
   "display_name": "pytorch_cuda12_0_py310",
   "language": "python",
   "name": "pytorch_cuda12_0_py310"
  },
  "language_info": {
   "codemirror_mode": {
    "name": "ipython",
    "version": 3
   },
   "file_extension": ".py",
   "mimetype": "text/x-python",
   "name": "python",
   "nbconvert_exporter": "python",
   "pygments_lexer": "ipython3",
   "version": "3.10.14"
  }
 },
 "nbformat": 4,
 "nbformat_minor": 2
}
